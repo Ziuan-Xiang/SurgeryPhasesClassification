{
 "cells": [
  {
   "cell_type": "markdown",
   "id": "defd4366-b068-427f-9576-fcba0763e0ae",
   "metadata": {},
   "source": [
    "# ResNet Train-Validation"
   ]
  },
  {
   "cell_type": "code",
   "execution_count": 1,
   "id": "a0fe570e-bbb6-4682-90f4-019a689b9764",
   "metadata": {},
   "outputs": [],
   "source": [
    "import torch\n",
    "from torchvision.transforms import (\n",
    "    Compose, ToTensor, Resize, Normalize, RandomResizedCrop, RandomHorizontalFlip, RandomVerticalFlip\n",
    ")\n",
    "from torchvision.models import resnet50\n",
    "\n",
    "from data import HerniaDataset, PhaseMapper\n",
    "from utils import ResnetTrainer, ResnetEvaluator\n",
    "\n",
    "import random\n",
    "\n",
    "%load_ext autoreload\n",
    "%autoreload 2"
   ]
  },
  {
   "cell_type": "markdown",
   "id": "0ced4118-fa34-4f7d-a336-d1ad2d2a2b97",
   "metadata": {},
   "source": [
    "## Dataset"
   ]
  },
  {
   "cell_type": "code",
   "execution_count": 2,
   "id": "b9bc4744-6b85-487f-a9e1-093eac82e52d",
   "metadata": {},
   "outputs": [],
   "source": [
    "root = '../../surgery_hernia_train_test/'\n",
    "videos = ['RALIHR_surgeon01_fps01_{:04}'.format(i + 1) for i in range(120)]\n",
    "random.shuffle(videos)"
   ]
  },
  {
   "cell_type": "code",
   "execution_count": 3,
   "id": "e64205bc",
   "metadata": {},
   "outputs": [
    {
     "data": {
      "text/html": [
       "<div>\n",
       "<style scoped>\n",
       "    .dataframe tbody tr th:only-of-type {\n",
       "        vertical-align: middle;\n",
       "    }\n",
       "\n",
       "    .dataframe tbody tr th {\n",
       "        vertical-align: top;\n",
       "    }\n",
       "\n",
       "    .dataframe thead th {\n",
       "        text-align: right;\n",
       "    }\n",
       "</style>\n",
       "<table border=\"1\" class=\"dataframe\">\n",
       "  <thead>\n",
       "    <tr style=\"text-align: right;\">\n",
       "      <th></th>\n",
       "      <th>labels</th>\n",
       "    </tr>\n",
       "  </thead>\n",
       "  <tbody>\n",
       "    <tr>\n",
       "      <th>0</th>\n",
       "      <td>mesh placement</td>\n",
       "    </tr>\n",
       "    <tr>\n",
       "      <th>1</th>\n",
       "      <td>out of body</td>\n",
       "    </tr>\n",
       "    <tr>\n",
       "      <th>2</th>\n",
       "      <td>peritoneal closure</td>\n",
       "    </tr>\n",
       "    <tr>\n",
       "      <th>3</th>\n",
       "      <td>peritoneal scoring</td>\n",
       "    </tr>\n",
       "    <tr>\n",
       "      <th>4</th>\n",
       "      <td>preperioneal dissection</td>\n",
       "    </tr>\n",
       "    <tr>\n",
       "      <th>5</th>\n",
       "      <td>reduction of hernia</td>\n",
       "    </tr>\n",
       "    <tr>\n",
       "      <th>6</th>\n",
       "      <td>transitionary idle</td>\n",
       "    </tr>\n",
       "  </tbody>\n",
       "</table>\n",
       "</div>"
      ],
      "text/plain": [
       "                    labels\n",
       "0           mesh placement\n",
       "1              out of body\n",
       "2       peritoneal closure\n",
       "3       peritoneal scoring\n",
       "4  preperioneal dissection\n",
       "5      reduction of hernia\n",
       "6       transitionary idle"
      ]
     },
     "execution_count": 3,
     "metadata": {},
     "output_type": "execute_result"
    }
   ],
   "source": [
    "mapper = PhaseMapper('../configs/all_labels_hernia_merged_7.csv')\n",
    "mapper.get_merged_labels()"
   ]
  },
  {
   "cell_type": "code",
   "execution_count": 4,
   "id": "a859025f-6ef2-4e8f-95cc-440fa4ff9870",
   "metadata": {},
   "outputs": [
    {
     "data": {
      "text/plain": [
       "(143243, 71814, 147205)"
      ]
     },
     "execution_count": 4,
     "metadata": {},
     "output_type": "execute_result"
    }
   ],
   "source": [
    "input_shape = (224, 224)\n",
    "mean = [0.41757566,0.26098573,0.25888634]\n",
    "std = [0.21938758,0.1983,0.19342837]\n",
    "train_transform = Compose([\n",
    "    #Resize(input_shape),\n",
    "    RandomResizedCrop(size=input_shape, scale=(0.8,1.0), ratio=(1.0,1.0)),\n",
    "    ToTensor(),\n",
    "    RandomHorizontalFlip(),\n",
    "    Normalize(mean, std)\n",
    "])\n",
    "valid_transform = Compose([\n",
    "    Resize(input_shape),\n",
    "    ToTensor(),\n",
    "    Normalize(mean, std)\n",
    "])\n",
    "train_set = HerniaDataset(root, videos[:50], transforms=train_transform, class_map=mapper)\n",
    "valid_set = HerniaDataset(root, videos[50:70], transforms=valid_transform, class_map=mapper)\n",
    "test_set = HerniaDataset(root, videos[70:120], transforms=valid_transform, class_map=mapper)\n",
    "len(train_set), len(valid_set), len(test_set)"
   ]
  },
  {
   "cell_type": "markdown",
   "id": "906699b8-38f1-4bcc-bd90-fc5e7ec894fe",
   "metadata": {},
   "source": [
    "## Model"
   ]
  },
  {
   "cell_type": "code",
   "execution_count": 5,
   "id": "5ab1ff71-f468-4c27-a155-290859a5f752",
   "metadata": {},
   "outputs": [
    {
     "data": {
      "text/plain": [
       "device(type='cuda', index=0)"
      ]
     },
     "execution_count": 5,
     "metadata": {},
     "output_type": "execute_result"
    }
   ],
   "source": [
    "device = torch.device('cuda:0' if torch.cuda.is_available() else 'cpu')\n",
    "device"
   ]
  },
  {
   "cell_type": "code",
   "execution_count": 6,
   "id": "f60a75c0-ebe3-4463-afa4-00f4e17cb77b",
   "metadata": {},
   "outputs": [],
   "source": [
    "model = resnet50(pretrained=True)\n",
    "model.fc = torch.nn.Linear(2048, 7)"
   ]
  },
  {
   "cell_type": "markdown",
   "id": "df538079-e634-4c67-82d0-f504c2aab3c9",
   "metadata": {},
   "source": [
    "## Training"
   ]
  },
  {
   "cell_type": "code",
   "execution_count": 7,
   "id": "a742f23e-f4f5-4f7a-9647-5f462da602b3",
   "metadata": {},
   "outputs": [],
   "source": [
    "trainer = ResnetTrainer(model, device)"
   ]
  },
  {
   "cell_type": "code",
   "execution_count": 8,
   "id": "ffc0f754-8547-4a85-8cd8-6ea2d6c39eb6",
   "metadata": {},
   "outputs": [
    {
     "name": "stderr",
     "output_type": "stream",
     "text": [
      "Failed to detect the name of this notebook, you can set it manually with the WANDB_NOTEBOOK_NAME environment variable to enable code saving.\n",
      "\u001b[34m\u001b[1mwandb\u001b[0m: Currently logged in as: \u001b[33mharrypotter1501\u001b[0m (\u001b[33meezklab\u001b[0m). Use \u001b[1m`wandb login --relogin`\u001b[0m to force relogin\n"
     ]
    },
    {
     "data": {
      "text/html": [
       "wandb version 0.12.21 is available!  To upgrade, please run:\n",
       " $ pip install wandb --upgrade"
      ],
      "text/plain": [
       "<IPython.core.display.HTML object>"
      ]
     },
     "metadata": {},
     "output_type": "display_data"
    },
    {
     "data": {
      "text/html": [
       "Tracking run with wandb version 0.12.17"
      ],
      "text/plain": [
       "<IPython.core.display.HTML object>"
      ]
     },
     "metadata": {},
     "output_type": "display_data"
    },
    {
     "data": {
      "text/html": [
       "Run data is saved locally in <code>/home/jupyter/ProjectSurgeryHernia/resnet/Surg01-V120/wandb/run-20220727_205910-2x6hs5v4</code>"
      ],
      "text/plain": [
       "<IPython.core.display.HTML object>"
      ]
     },
     "metadata": {},
     "output_type": "display_data"
    },
    {
     "data": {
      "text/html": [
       "Syncing run <strong><a href=\"https://wandb.ai/eezklab/surgery-hernia/runs/2x6hs5v4\" target=\"_blank\">resnet50-p7-v120-b64-lr1em5-a-220727165910</a></strong> to <a href=\"https://wandb.ai/eezklab/surgery-hernia\" target=\"_blank\">Weights & Biases</a> (<a href=\"https://wandb.me/run\" target=\"_blank\">docs</a>)<br/>"
      ],
      "text/plain": [
       "<IPython.core.display.HTML object>"
      ]
     },
     "metadata": {},
     "output_type": "display_data"
    },
    {
     "name": "stdout",
     "output_type": "stream",
     "text": [
      "Running resnet50-p7-v120-b64-lr1em5-a\n",
      "Datasets: num_train = 143243, num_validation = 71814\n",
      "Main metric: valid_f1_weighted\n",
      "Epoch 1/10: validating 99.91095280498664% (batch 1123/1123)\r"
     ]
    },
    {
     "name": "stderr",
     "output_type": "stream",
     "text": [
      "/opt/conda/lib/python3.8/site-packages/torch/nn/modules/module.py:1383: UserWarning: positional arguments and argument \"destination\" are deprecated. nn.Module.state_dict will not accept them in the future. Refer to https://pytorch.org/docs/master/generated/torch.nn.Module.html#torch.nn.Module.state_dict for details.\n",
      "  warnings.warn(\n"
     ]
    },
    {
     "name": "stdout",
     "output_type": "stream",
     "text": [
      "Epoch 1/10: train_loss 0.48985117, train_accuracy 0.82643480, train_f1_macro 0.77004582, train_f1_weighted 0.82167837, valid_loss 0.54256631, valid_accuracy 0.79801988, valid_f1_macro 0.77796166, valid_f1_weighted 0.79430813, _timestamp 1658960373.00000000, _runtime 4822.00000000\n",
      "Epoch 2/10: training 45.20% (batch 1013/2239)\r"
     ]
    },
    {
     "name": "stderr",
     "output_type": "stream",
     "text": [
      "wandb: Network error (ReadTimeout), entering retry loop.\n"
     ]
    },
    {
     "name": "stdout",
     "output_type": "stream",
     "text": [
      "Epoch 2/10: train_loss 0.26736269, train_accuracy 0.90498663, train_f1_macro 0.89064892, train_f1_weighted 0.90406878, valid_loss 0.54457758, valid_accuracy 0.79459437, valid_f1_macro 0.78174065, valid_f1_weighted 0.79417457, _timestamp 1658966194.00000000, _runtime 10643.00000000\n",
      "Epoch 3/10: train_loss 0.20397792, train_accuracy 0.92847120, train_f1_macro 0.91839572, train_f1_weighted 0.92799093, valid_loss 0.56635960, valid_accuracy 0.78598880, valid_f1_macro 0.77425233, valid_f1_weighted 0.78691694, _timestamp 1658971761.00000000, _runtime 16210.00000000\n",
      "Epoch 4/10: train_loss 0.17234931, train_accuracy 0.93879631, train_f1_macro 0.93062004, train_f1_weighted 0.93846389, valid_loss 0.54841482, valid_accuracy 0.79391205, valid_f1_macro 0.77910861, valid_f1_weighted 0.79259199, _timestamp 1658977258.00000000, _runtime 21707.00000000\n",
      "Epoch 5/10: validating 99.91095280498664% (batch 1123/1123)\r"
     ]
    },
    {
     "name": "stderr",
     "output_type": "stream",
     "text": [
      "/opt/conda/lib/python3.8/site-packages/torch/nn/modules/module.py:1383: UserWarning: positional arguments and argument \"destination\" are deprecated. nn.Module.state_dict will not accept them in the future. Refer to https://pytorch.org/docs/master/generated/torch.nn.Module.html#torch.nn.Module.state_dict for details.\n",
      "  warnings.warn(\n"
     ]
    },
    {
     "name": "stdout",
     "output_type": "stream",
     "text": [
      "Epoch 5/10: train_loss 0.14533585, train_accuracy 0.94848614, train_f1_macro 0.94097746, train_f1_weighted 0.94826077, valid_loss 0.54751464, valid_accuracy 0.79704514, valid_f1_macro 0.77718210, valid_f1_weighted 0.79583665, _timestamp 1658982690.00000000, _runtime 27139.00000000\n",
      "Epoch 6/10: train_loss 0.13017060, train_accuracy 0.95395936, train_f1_macro 0.94762054, train_f1_weighted 0.95376992, valid_loss 0.64429603, valid_accuracy 0.76918150, valid_f1_macro 0.76534038, valid_f1_weighted 0.77106643, _timestamp 1658988121.00000000, _runtime 32570.00000000\n",
      "Epoch 7/10: train_loss 0.11309956, train_accuracy 0.96022842, train_f1_macro 0.95453944, train_f1_weighted 0.96008869, valid_loss 0.56689893, valid_accuracy 0.79070933, valid_f1_macro 0.77795330, valid_f1_weighted 0.79165793, _timestamp 1658993380.00000000, _runtime 37829.00000000\n",
      "Epoch 8/10: train_loss 0.10277900, train_accuracy 0.96383767, train_f1_macro 0.95912967, train_f1_weighted 0.96373139, valid_loss 0.61072616, valid_accuracy 0.78779904, valid_f1_macro 0.76920361, valid_f1_weighted 0.78685019, _timestamp 1658998829.00000000, _runtime 43278.00000000\n",
      "Epoch 9/10: train_loss 0.09279164, train_accuracy 0.96706296, train_f1_macro 0.96228922, train_f1_weighted 0.96697305, valid_loss 0.59459500, valid_accuracy 0.79183725, valid_f1_macro 0.77243526, valid_f1_weighted 0.79060769, _timestamp 1659004316.00000000, _runtime 48765.00000000\n",
      "Epoch 10/10: train_loss 0.08597531, train_accuracy 0.96977863, train_f1_macro 0.96546124, train_f1_weighted 0.96971630, valid_loss 0.61750870, valid_accuracy 0.79655777, valid_f1_macro 0.77251754, valid_f1_weighted 0.79117335, _timestamp 1659010192.00000000, _runtime 54641.00000000\n"
     ]
    },
    {
     "data": {
      "text/plain": [
       "{'train_loss': [0.4898511746090509,\n",
       "  0.2673626902108482,\n",
       "  0.2039779186674717,\n",
       "  0.17234930998216041,\n",
       "  0.14533584687381304,\n",
       "  0.13017059831500266,\n",
       "  0.11309956078421343,\n",
       "  0.10277900118721868,\n",
       "  0.0927916445214902,\n",
       "  0.08597531209355815],\n",
       " 'train_accuracy': [0.8264347996062635,\n",
       "  0.9049866311093736,\n",
       "  0.9284711992907158,\n",
       "  0.9387963111635472,\n",
       "  0.9484861389387265,\n",
       "  0.9539593557800381,\n",
       "  0.9602284230293976,\n",
       "  0.963837674441334,\n",
       "  0.9670629629371069,\n",
       "  0.9697786279259719],\n",
       " 'train_f1_macro': [0.7700458222294447,\n",
       "  0.8906489160095781,\n",
       "  0.9183957212294686,\n",
       "  0.9306200393699527,\n",
       "  0.940977462025602,\n",
       "  0.9476205440725707,\n",
       "  0.9545394423454917,\n",
       "  0.959129666140549,\n",
       "  0.9622892223862911,\n",
       "  0.9654612360464035],\n",
       " 'train_f1_weighted': [0.8216783664208452,\n",
       "  0.9040687759173089,\n",
       "  0.9279909307424321,\n",
       "  0.938463887224978,\n",
       "  0.9482607726167331,\n",
       "  0.9537699177789725,\n",
       "  0.9600886893131895,\n",
       "  0.9637313933083438,\n",
       "  0.9669730539190137,\n",
       "  0.9697162973351067],\n",
       " 'valid_loss': [0.5425663081753272,\n",
       "  0.5445775774631811,\n",
       "  0.5663595958907267,\n",
       "  0.5484148216508876,\n",
       "  0.5475146388191355,\n",
       "  0.6442960295527642,\n",
       "  0.5668989328177395,\n",
       "  0.6107261615675954,\n",
       "  0.5945950018665782,\n",
       "  0.6175087015931341],\n",
       " 'valid_accuracy': [0.7980198847021472,\n",
       "  0.7945943687860306,\n",
       "  0.7859888044113961,\n",
       "  0.7939120505750967,\n",
       "  0.7970451444008132,\n",
       "  0.7691814966441084,\n",
       "  0.7907093324421423,\n",
       "  0.7877990363995878,\n",
       "  0.7918372462194001,\n",
       "  0.7965577742501462],\n",
       " 'valid_f1_macro': [0.7779616624565026,\n",
       "  0.78174065005287,\n",
       "  0.7742523270872644,\n",
       "  0.779108609867473,\n",
       "  0.7771821028284469,\n",
       "  0.7653403836510062,\n",
       "  0.7779532994493276,\n",
       "  0.7692036127259421,\n",
       "  0.772435257100515,\n",
       "  0.772517538601566],\n",
       " 'valid_f1_weighted': [0.7943081291108953,\n",
       "  0.7941745668797324,\n",
       "  0.786916943275424,\n",
       "  0.7925919907332346,\n",
       "  0.7958366465548733,\n",
       "  0.771066429233644,\n",
       "  0.7916579304337984,\n",
       "  0.7868501877042046,\n",
       "  0.7906076911242303,\n",
       "  0.7911733535576028]}"
      ]
     },
     "execution_count": 8,
     "metadata": {},
     "output_type": "execute_result"
    }
   ],
   "source": [
    "hist = trainer.train(\n",
    "    train_set, valid_set, \n",
    "    num_epochs=10, \n",
    "    batch_size=64, \n",
    "    learning_rate=1e-5, \n",
    "    run_name='resnet50-p7-v120-b64-lr1em5-a', \n",
    "    num_workers=1, \n",
    "    prefetch_factor=4\n",
    ")\n",
    "hist"
   ]
  },
  {
   "cell_type": "markdown",
   "id": "3bded572-1ee1-40a9-9766-c53283905b2a",
   "metadata": {},
   "source": [
    "## Evaluation"
   ]
  },
  {
   "cell_type": "code",
   "execution_count": 10,
   "id": "001b5913-3fd3-4a8e-b77e-8580e7f7e2c1",
   "metadata": {},
   "outputs": [
    {
     "data": {
      "text/plain": [
       "<All keys matched successfully>"
      ]
     },
     "execution_count": 10,
     "metadata": {},
     "output_type": "execute_result"
    }
   ],
   "source": [
    "model.load_state_dict(torch.load('./model/resnet50-p7-v120-b64-lr1em5-a.pt'))"
   ]
  },
  {
   "cell_type": "code",
   "execution_count": 11,
   "id": "d0113e1a-f15b-469e-aebd-00c07ef20d07",
   "metadata": {},
   "outputs": [],
   "source": [
    "evaluator = ResnetEvaluator(model, device, mapper.get_merged_labels()['labels'])"
   ]
  },
  {
   "cell_type": "code",
   "execution_count": 12,
   "id": "c5bd9157-74b1-4df5-b138-f0c6dd2f4482",
   "metadata": {},
   "outputs": [
    {
     "name": "stdout",
     "output_type": "stream",
     "text": [
      "Testing ResNet\n",
      "Datasets: num_test = 147205\n",
      "Testing 100.00% (batch 147201/147205)\r"
     ]
    },
    {
     "data": {
      "text/plain": [
       "{'time': 0.012879398337913869,\n",
       " 'accuracy': 0.7696681498590401,\n",
       " 'f1_macro': 0.7608279192870857,\n",
       " 'f1_weighted': 0.7679778534893521}"
      ]
     },
     "execution_count": 12,
     "metadata": {},
     "output_type": "execute_result"
    }
   ],
   "source": [
    "res, report = evaluator.evaluate(test_set, num_workers=1, prefetch_factor=128)\n",
    "res"
   ]
  },
  {
   "cell_type": "code",
   "execution_count": 13,
   "id": "8f5023b2-9b8d-4be7-bb5c-3de2802fb339",
   "metadata": {},
   "outputs": [
    {
     "name": "stdout",
     "output_type": "stream",
     "text": [
      "                         precision    recall  f1-score   support\n",
      "\n",
      "         mesh placement       0.75      0.81      0.78     34092\n",
      "            out of body       0.94      0.99      0.96       906\n",
      "     peritoneal closure       0.87      0.86      0.87     36029\n",
      "     peritoneal scoring       0.88      0.63      0.74      6745\n",
      "preperioneal dissection       0.62      0.76      0.68     18409\n",
      "    reduction of hernia       0.84      0.79      0.82     36725\n",
      "     transitionary idle       0.55      0.43      0.48     14299\n",
      "\n",
      "               accuracy                           0.77    147205\n",
      "              macro avg       0.78      0.75      0.76    147205\n",
      "           weighted avg       0.77      0.77      0.77    147205\n",
      "\n"
     ]
    }
   ],
   "source": [
    "print(report)"
   ]
  },
  {
   "cell_type": "code",
   "execution_count": null,
   "id": "22386304-a35f-4135-9c6c-ebd525f9959c",
   "metadata": {},
   "outputs": [],
   "source": []
  }
 ],
 "metadata": {
  "kernelspec": {
   "display_name": "Custom [pytorch] (Local)",
   "language": "python",
   "name": "local-nvcr.io_nvidia_pytorch_22.04-py3__python3"
  },
  "language_info": {
   "codemirror_mode": {
    "name": "ipython",
    "version": 3
   },
   "file_extension": ".py",
   "mimetype": "text/x-python",
   "name": "python",
   "nbconvert_exporter": "python",
   "pygments_lexer": "ipython3",
   "version": "3.8.13"
  },
  "vscode": {
   "interpreter": {
    "hash": "7bb744823c5315bc838d6f85bb474c2716845bb0b4d758ac389cca5a4bd648da"
   }
  }
 },
 "nbformat": 4,
 "nbformat_minor": 5
}
