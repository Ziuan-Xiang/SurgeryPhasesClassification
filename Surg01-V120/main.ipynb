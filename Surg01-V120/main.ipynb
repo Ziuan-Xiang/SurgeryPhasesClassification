{
 "cells": [
  {
   "cell_type": "markdown",
   "id": "defd4366-b068-427f-9576-fcba0763e0ae",
   "metadata": {},
   "source": [
    "# ResNet Train-Validation"
   ]
  },
  {
   "cell_type": "code",
   "execution_count": 1,
   "id": "a0fe570e-bbb6-4682-90f4-019a689b9764",
   "metadata": {},
   "outputs": [],
   "source": [
    "import torch\n",
    "from torchvision.transforms import (\n",
    "    Compose, ToTensor, Resize, Normalize, RandomResizedCrop, RandomHorizontalFlip, RandomVerticalFlip\n",
    ")\n",
    "from torchvision.models import resnet50\n",
    "\n",
    "from data import HerniaDataset, PhaseMapper\n",
    "from utils import ResnetTrainer, ResnetEvaluator\n",
    "\n",
    "import random\n",
    "\n",
    "%load_ext autoreload\n",
    "%autoreload 2"
   ]
  },
  {
   "cell_type": "markdown",
   "id": "0ced4118-fa34-4f7d-a336-d1ad2d2a2b97",
   "metadata": {},
   "source": [
    "## Dataset"
   ]
  },
  {
   "cell_type": "code",
   "execution_count": 2,
   "id": "b9bc4744-6b85-487f-a9e1-093eac82e52d",
   "metadata": {},
   "outputs": [],
   "source": [
    "root = '../../surgery_hernia_train_test/'\n",
    "videos = ['RALIHR_surgeon01_fps01_{:04}'.format(i + 1) for i in range(70)]\n",
    "random.shuffle(videos)\n",
    "videos += ['RALIHR_surgeon01_fps01_{:04}'.format(i + 1) for i in range(70, 120)]"
   ]
  },
  {
   "cell_type": "code",
   "execution_count": 3,
   "id": "e64205bc",
   "metadata": {},
   "outputs": [
    {
     "data": {
      "text/html": [
       "<div>\n",
       "<style scoped>\n",
       "    .dataframe tbody tr th:only-of-type {\n",
       "        vertical-align: middle;\n",
       "    }\n",
       "\n",
       "    .dataframe tbody tr th {\n",
       "        vertical-align: top;\n",
       "    }\n",
       "\n",
       "    .dataframe thead th {\n",
       "        text-align: right;\n",
       "    }\n",
       "</style>\n",
       "<table border=\"1\" class=\"dataframe\">\n",
       "  <thead>\n",
       "    <tr style=\"text-align: right;\">\n",
       "      <th></th>\n",
       "      <th>labels</th>\n",
       "    </tr>\n",
       "  </thead>\n",
       "  <tbody>\n",
       "    <tr>\n",
       "      <th>0</th>\n",
       "      <td>mesh placement</td>\n",
       "    </tr>\n",
       "    <tr>\n",
       "      <th>1</th>\n",
       "      <td>out of body</td>\n",
       "    </tr>\n",
       "    <tr>\n",
       "      <th>2</th>\n",
       "      <td>peritoneal closure</td>\n",
       "    </tr>\n",
       "    <tr>\n",
       "      <th>3</th>\n",
       "      <td>peritoneal scoring</td>\n",
       "    </tr>\n",
       "    <tr>\n",
       "      <th>4</th>\n",
       "      <td>preperioneal dissection</td>\n",
       "    </tr>\n",
       "    <tr>\n",
       "      <th>5</th>\n",
       "      <td>reduction of hernia</td>\n",
       "    </tr>\n",
       "    <tr>\n",
       "      <th>6</th>\n",
       "      <td>transitionary idle</td>\n",
       "    </tr>\n",
       "  </tbody>\n",
       "</table>\n",
       "</div>"
      ],
      "text/plain": [
       "                    labels\n",
       "0           mesh placement\n",
       "1              out of body\n",
       "2       peritoneal closure\n",
       "3       peritoneal scoring\n",
       "4  preperioneal dissection\n",
       "5      reduction of hernia\n",
       "6       transitionary idle"
      ]
     },
     "execution_count": 3,
     "metadata": {},
     "output_type": "execute_result"
    }
   ],
   "source": [
    "mapper = PhaseMapper('../configs/all_labels_hernia_merged_7.csv')\n",
    "mapper.get_merged_labels()"
   ]
  },
  {
   "cell_type": "code",
   "execution_count": 4,
   "id": "a859025f-6ef2-4e8f-95cc-440fa4ff9870",
   "metadata": {},
   "outputs": [
    {
     "data": {
      "text/plain": [
       "(201991, 13066, 147205)"
      ]
     },
     "execution_count": 4,
     "metadata": {},
     "output_type": "execute_result"
    }
   ],
   "source": [
    "input_shape = (224, 224)\n",
    "mean = [0.41757566,0.26098573,0.25888634]\n",
    "std = [0.21938758,0.1983,0.19342837]\n",
    "train_transform = Compose([\n",
    "    #Resize(input_shape),\n",
    "    RandomResizedCrop(size=input_shape, scale=(0.8, 1.0), ratio=(0.9, 1.1)),\n",
    "    ToTensor(),\n",
    "    RandomHorizontalFlip(),\n",
    "    Normalize(mean, std)\n",
    "])\n",
    "valid_transform = Compose([\n",
    "    Resize(input_shape),\n",
    "    ToTensor(),\n",
    "    Normalize(mean, std)\n",
    "])\n",
    "train_set = HerniaDataset(root, videos[:65], transforms=train_transform, class_map=mapper)\n",
    "valid_set = HerniaDataset(root, videos[65:70], transforms=valid_transform, class_map=mapper)\n",
    "test_set = HerniaDataset(root, videos[70:120], transforms=valid_transform, class_map=mapper)\n",
    "len(train_set), len(valid_set), len(test_set)"
   ]
  },
  {
   "cell_type": "markdown",
   "id": "906699b8-38f1-4bcc-bd90-fc5e7ec894fe",
   "metadata": {},
   "source": [
    "## Model"
   ]
  },
  {
   "cell_type": "code",
   "execution_count": 5,
   "id": "5ab1ff71-f468-4c27-a155-290859a5f752",
   "metadata": {},
   "outputs": [
    {
     "data": {
      "text/plain": [
       "device(type='cuda', index=0)"
      ]
     },
     "execution_count": 5,
     "metadata": {},
     "output_type": "execute_result"
    }
   ],
   "source": [
    "device = torch.device('cuda:0' if torch.cuda.is_available() else 'cpu')\n",
    "device"
   ]
  },
  {
   "cell_type": "code",
   "execution_count": 6,
   "id": "f60a75c0-ebe3-4463-afa4-00f4e17cb77b",
   "metadata": {},
   "outputs": [],
   "source": [
    "model = resnet50(pretrained=True)\n",
    "model.fc = torch.nn.Linear(2048, 7)"
   ]
  },
  {
   "cell_type": "markdown",
   "id": "df538079-e634-4c67-82d0-f504c2aab3c9",
   "metadata": {},
   "source": [
    "## Training"
   ]
  },
  {
   "cell_type": "code",
   "execution_count": 7,
   "id": "a742f23e-f4f5-4f7a-9647-5f462da602b3",
   "metadata": {},
   "outputs": [],
   "source": [
    "trainer = ResnetTrainer(model, device)"
   ]
  },
  {
   "cell_type": "code",
   "execution_count": null,
   "id": "ffc0f754-8547-4a85-8cd8-6ea2d6c39eb6",
   "metadata": {},
   "outputs": [
    {
     "name": "stderr",
     "output_type": "stream",
     "text": [
      "Failed to detect the name of this notebook, you can set it manually with the WANDB_NOTEBOOK_NAME environment variable to enable code saving.\n",
      "\u001b[34m\u001b[1mwandb\u001b[0m: Currently logged in as: \u001b[33mharrypotter1501\u001b[0m (\u001b[33meezklab\u001b[0m). Use \u001b[1m`wandb login --relogin`\u001b[0m to force relogin\n"
     ]
    },
    {
     "data": {
      "text/html": [
       "wandb version 0.12.21 is available!  To upgrade, please run:\n",
       " $ pip install wandb --upgrade"
      ],
      "text/plain": [
       "<IPython.core.display.HTML object>"
      ]
     },
     "metadata": {},
     "output_type": "display_data"
    },
    {
     "data": {
      "text/html": [
       "Tracking run with wandb version 0.12.17"
      ],
      "text/plain": [
       "<IPython.core.display.HTML object>"
      ]
     },
     "metadata": {},
     "output_type": "display_data"
    },
    {
     "data": {
      "text/html": [
       "Run data is saved locally in <code>/home/jupyter/ProjectSurgeryHernia/resnet/Surg01-V120/wandb/run-20220728_212331-33zusxbi</code>"
      ],
      "text/plain": [
       "<IPython.core.display.HTML object>"
      ]
     },
     "metadata": {},
     "output_type": "display_data"
    },
    {
     "data": {
      "text/html": [
       "Syncing run <strong><a href=\"https://wandb.ai/eezklab/surgery-hernia/runs/33zusxbi\" target=\"_blank\">resnet50-p7-v120-b64-lr1em5-sa-220728172331</a></strong> to <a href=\"https://wandb.ai/eezklab/surgery-hernia\" target=\"_blank\">Weights & Biases</a> (<a href=\"https://wandb.me/run\" target=\"_blank\">docs</a>)<br/>"
      ],
      "text/plain": [
       "<IPython.core.display.HTML object>"
      ]
     },
     "metadata": {},
     "output_type": "display_data"
    },
    {
     "name": "stdout",
     "output_type": "stream",
     "text": [
      "Running resnet50-p7-v120-b64-lr1em5-sa\n",
      "Datasets: num_train = 201991, num_validation = 13066\n",
      "Main metric: valid_f1_weighted\n",
      "Epoch 1/10: validating 99.88% (batch 817/817)5)\r"
     ]
    },
    {
     "name": "stderr",
     "output_type": "stream",
     "text": [
      "/opt/conda/lib/python3.8/site-packages/torch/nn/modules/module.py:1383: UserWarning: positional arguments and argument \"destination\" are deprecated. nn.Module.state_dict will not accept them in the future. Refer to https://pytorch.org/docs/master/generated/torch.nn.Module.html#torch.nn.Module.state_dict for details.\n",
      "  warnings.warn(\n"
     ]
    },
    {
     "name": "stdout",
     "output_type": "stream",
     "text": [
      "Epoch 1/10: train_loss 0.30350582, train_accuracy 0.89640628, train_f1_macro 0.87818865, train_f1_weighted 0.89478125, valid_loss 0.84388769, valid_accuracy 0.72715445, valid_f1_macro 0.64753303, valid_f1_weighted 0.71676099, _timestamp 1659045747.00000000, _runtime 2336.00000000\n",
      "Epoch 2/10: validating 99.88% (batch 817/817)5)\r"
     ]
    },
    {
     "name": "stderr",
     "output_type": "stream",
     "text": [
      "/opt/conda/lib/python3.8/site-packages/torch/nn/modules/module.py:1383: UserWarning: positional arguments and argument \"destination\" are deprecated. nn.Module.state_dict will not accept them in the future. Refer to https://pytorch.org/docs/master/generated/torch.nn.Module.html#torch.nn.Module.state_dict for details.\n",
      "  warnings.warn(\n"
     ]
    },
    {
     "name": "stdout",
     "output_type": "stream",
     "text": [
      "Epoch 2/10: train_loss 0.12030736, train_accuracy 0.96002792, train_f1_macro 0.95161936, train_f1_weighted 0.95984517, valid_loss 0.81340564, valid_accuracy 0.74705342, valid_f1_macro 0.72433417, valid_f1_weighted 0.75496539, _timestamp 1659048056.00000000, _runtime 4645.00000000\n",
      "Epoch 3/10: train_loss 0.07395071, train_accuracy 0.97571179, train_f1_macro 0.96908541, train_f1_weighted 0.97565492, valid_loss 0.90524502, valid_accuracy 0.74636461, valid_f1_macro 0.70294618, valid_f1_weighted 0.74277215, _timestamp 1659050358.00000000, _runtime 6947.00000000\n",
      "Epoch 4/10: train_loss 0.05138595, train_accuracy 0.98334084, train_f1_macro 0.97794335, train_f1_weighted 0.98332672, valid_loss 1.17999471, valid_accuracy 0.73434869, valid_f1_macro 0.66885208, valid_f1_weighted 0.72437877, _timestamp 1659052665.00000000, _runtime 9254.00000000\n",
      "Epoch 5/10: training 95.81% (batch 12097/12625)\r"
     ]
    }
   ],
   "source": [
    "hist = trainer.train(\n",
    "    train_set, valid_set, \n",
    "    num_epochs=10, \n",
    "    batch_size=16, \n",
    "    learning_rate=1e-5, \n",
    "    run_name='resnet50-p7-v120-b16-lr1em5-sa', \n",
    "    num_workers=4, \n",
    "    prefetch_factor=2\n",
    ")\n",
    "hist"
   ]
  },
  {
   "cell_type": "markdown",
   "id": "3bded572-1ee1-40a9-9766-c53283905b2a",
   "metadata": {},
   "source": [
    "## Evaluation"
   ]
  },
  {
   "cell_type": "code",
   "execution_count": 10,
   "id": "001b5913-3fd3-4a8e-b77e-8580e7f7e2c1",
   "metadata": {},
   "outputs": [
    {
     "data": {
      "text/plain": [
       "<All keys matched successfully>"
      ]
     },
     "execution_count": 10,
     "metadata": {},
     "output_type": "execute_result"
    }
   ],
   "source": [
    "model.load_state_dict(torch.load('./model/resnet50-p7-v120-b16-lr1em5-sa.pt'))"
   ]
  },
  {
   "cell_type": "code",
   "execution_count": 11,
   "id": "d0113e1a-f15b-469e-aebd-00c07ef20d07",
   "metadata": {},
   "outputs": [],
   "source": [
    "evaluator = ResnetEvaluator(model, device, mapper.get_merged_labels()['labels'])"
   ]
  },
  {
   "cell_type": "code",
   "execution_count": 12,
   "id": "c5bd9157-74b1-4df5-b138-f0c6dd2f4482",
   "metadata": {},
   "outputs": [
    {
     "name": "stdout",
     "output_type": "stream",
     "text": [
      "Testing ResNet\n",
      "Datasets: num_test = 147205\n",
      "Testing 100.00% (batch 147201/147205)\r"
     ]
    },
    {
     "data": {
      "text/plain": [
       "{'time': 0.014633959485826874,\n",
       " 'accuracy': 0.7708297951835875,\n",
       " 'f1_macro': 0.7659636026471139,\n",
       " 'f1_weighted': 0.7750889642501818}"
      ]
     },
     "execution_count": 12,
     "metadata": {},
     "output_type": "execute_result"
    }
   ],
   "source": [
    "res, report = evaluator.evaluate(test_set, num_workers=4, prefetch_factor=32)\n",
    "res"
   ]
  },
  {
   "cell_type": "code",
   "execution_count": 13,
   "id": "8f5023b2-9b8d-4be7-bb5c-3de2802fb339",
   "metadata": {},
   "outputs": [
    {
     "name": "stdout",
     "output_type": "stream",
     "text": [
      "                         precision    recall  f1-score   support\n",
      "\n",
      "         mesh placement       0.82      0.72      0.76     34092\n",
      "            out of body       0.93      0.98      0.96       906\n",
      "     peritoneal closure       0.88      0.90      0.89     36029\n",
      "     peritoneal scoring       0.82      0.65      0.73      6745\n",
      "preperioneal dissection       0.70      0.62      0.66     18409\n",
      "    reduction of hernia       0.83      0.82      0.82     36725\n",
      "     transitionary idle       0.45      0.67      0.54     14299\n",
      "\n",
      "               accuracy                           0.77    147205\n",
      "              macro avg       0.78      0.77      0.77    147205\n",
      "           weighted avg       0.79      0.77      0.78    147205\n",
      "\n"
     ]
    }
   ],
   "source": [
    "print(report)"
   ]
  },
  {
   "cell_type": "code",
   "execution_count": null,
   "id": "22386304-a35f-4135-9c6c-ebd525f9959c",
   "metadata": {},
   "outputs": [],
   "source": []
  }
 ],
 "metadata": {
  "kernelspec": {
   "display_name": "Custom [pytorch] (Local)",
   "language": "python",
   "name": "local-nvcr.io_nvidia_pytorch_22.04-py3__python3"
  },
  "language_info": {
   "codemirror_mode": {
    "name": "ipython",
    "version": 3
   },
   "file_extension": ".py",
   "mimetype": "text/x-python",
   "name": "python",
   "nbconvert_exporter": "python",
   "pygments_lexer": "ipython3",
   "version": "3.8.13"
  },
  "vscode": {
   "interpreter": {
    "hash": "7bb744823c5315bc838d6f85bb474c2716845bb0b4d758ac389cca5a4bd648da"
   }
  }
 },
 "nbformat": 4,
 "nbformat_minor": 5
}
